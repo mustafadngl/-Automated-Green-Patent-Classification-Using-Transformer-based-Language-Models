{
 "cells": [
  {
   "cell_type": "code",
   "execution_count": 4,
   "metadata": {},
   "outputs": [
    {
     "name": "stdout",
     "output_type": "stream",
     "text": [
      "  patent_id                                   description_text  \\\n",
      "0  11856881  DETAILED DESCRIPTION\\n\\nIn the following descr...   \n",
      "1  11856882  DETAILED DESCRIPTION OF THE PREFERRED EMBODIME...   \n",
      "2  11856883  DETAILED DESCRIPTION OF THE INVENTION\\n\\nThe f...   \n",
      "3  11856884  DETAILED DESCRIPTION OF THE INVENTION\\n\\nRefer...   \n",
      "4  11856885  DETAILED DESCRIPTION OF THE PREFERRED EMBODIME...   \n",
      "5  11856886  DESCRIPTION OF EMBODIMENT\\n\\nThe exemplary emb...   \n",
      "6  11856887  DETAILED DESCRIPTION\\n\\nThe invention relates ...   \n",
      "7  11856888  Before any embodiments of the invention are ex...   \n",
      "8  11856889  DETAILED DESCRIPTION\\n\\nAs discussed above, it...   \n",
      "9  11856890  DETAILED DESCRIPTION\\n\\nAs discussed above, so...   \n",
      "\n",
      "  description_length  \n",
      "0              99190  \n",
      "1              25011  \n",
      "2              79288  \n",
      "3              13181  \n",
      "4              16972  \n",
      "5              22084  \n",
      "6              11257  \n",
      "7              17626  \n",
      "8              56028  \n",
      "9              80763  \n"
     ]
    }
   ],
   "source": [
    "import sqlite3\n",
    "import pandas as pd\n",
    "\n",
    "cur = sqlite3.connect('em500database.db')\n",
    "\n",
    "df = pd.read_sql_query(\"SELECT * FROM g_detail_desc_text_2024 LIMIT 10\", cur)\n",
    "print(df)"
   ]
  },
  {
   "cell_type": "code",
   "execution_count": null,
   "metadata": {},
   "outputs": [
    {
     "name": "stdout",
     "output_type": "stream",
     "text": [
      "patent_id                                                      11856882\n",
      "description_text      DETAILED DESCRIPTION OF THE PREFERRED EMBODIME...\n",
      "description_length                                                25011\n",
      "Name: 1, dtype: object\n"
     ]
    }
   ],
   "source": [
    "print(df.iloc[1, :])\n",
    "print(df.iloc[0, 1])"
   ]
  }
 ],
 "metadata": {
  "kernelspec": {
   "display_name": "Python 3",
   "language": "python",
   "name": "python3"
  },
  "language_info": {
   "codemirror_mode": {
    "name": "ipython",
    "version": 3
   },
   "file_extension": ".py",
   "mimetype": "text/x-python",
   "name": "python",
   "nbconvert_exporter": "python",
   "pygments_lexer": "ipython3",
   "version": "3.10.11"
  }
 },
 "nbformat": 4,
 "nbformat_minor": 2
}
